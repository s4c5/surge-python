{
 "cells": [
  {
   "cell_type": "markdown",
   "metadata": {},
   "source": [
    "# 03 Modulation\n",
    "\n",
    "Surge is a powerful synth for many reasons - the oscillators, filters, and effects - but the flexible modulation\n",
    "architecture is one of the most powerful sound design tools in the instrument. We expose almost all of the modulation architecture to python as the API (the current exceptions are: We do not expose the step sequencer\n",
    "and MSEG model states as of this writing).\n",
    "\n",
    "Using the API you can query modulation routings (the mapping between a source and a parameter) and set them easily\n",
    "allowing you almost complete flexibility on queriying and creating a patch.\n"
   ]
  },
  {
   "cell_type": "code",
   "execution_count": 1,
   "metadata": {},
   "outputs": [
    {
     "data": {
      "text/plain": [
       "'1.8.more-python.185c1075'"
      ]
     },
     "execution_count": 1,
     "metadata": {},
     "output_type": "execute_result"
    }
   ],
   "source": [
    "import sys\n",
    "# Replace this with a path to the built surgepy \n",
    "sys.path.append( \"../../surge/cmake-build-debug-xc\" )\n",
    "\n",
    "import os\n",
    "import surgepy\n",
    "import surgepy.constants as srco\n",
    "import numpy as np\n",
    "import IPython\n",
    "\n",
    "%matplotlib inline\n",
    "import matplotlib\n",
    "import matplotlib.pyplot as plt\n",
    "plt.rcParams['figure.figsize'] = [12, 8]\n",
    "\n",
    "surgepy.getVersion()"
   ]
  },
  {
   "cell_type": "markdown",
   "metadata": {},
   "source": [
    "## Traversing and Understanding modulations\n",
    "\n",
    "Lets start by investigating the modulation routings. We will choose one of the 3rd party partches in surge\n",
    "and look at the mod matrix using the `getAllModRoutings` operator. We can then query individual routings and their\n",
    "validity using the API."
   ]
  },
  {
   "cell_type": "code",
   "execution_count": 2,
   "metadata": {},
   "outputs": [
    {
     "data": {
      "text/plain": [
       "{'global': [],\n",
       " 'scene': [{'scene': [],\n",
       "   'voice': [<SurgeModRouting src='Voice LFO 1' dst='A Osc 1 Feedback' depth=0.502999 normdepth=0.2515>,\n",
       "    <SurgeModRouting src='Voice LFO 1' dst='A Osc 2 Low Cut' depth=-25 normdepth=-0.192308>,\n",
       "    <SurgeModRouting src='Voice LFO 1' dst='A Osc 2 High Cut' depth=25 normdepth=0.192308>,\n",
       "    <SurgeModRouting src='Voice LFO 1' dst='A Osc 2 Level' depth=-0.666575 normdepth=-0.666575>,\n",
       "    <SurgeModRouting src='Voice LFO 1' dst='A Filter 2 Cutoff' depth=25 normdepth=0.192308>,\n",
       "    <SurgeModRouting src='Voice LFO 2' dst='A Osc 1 Low Cut' depth=25 normdepth=0.192308>,\n",
       "    <SurgeModRouting src='Voice LFO 2' dst='A Osc 1 High Cut' depth=-25 normdepth=-0.192308>,\n",
       "    <SurgeModRouting src='Voice LFO 2' dst='A Osc 2 Feedback' depth=0.502999 normdepth=0.2515>,\n",
       "    <SurgeModRouting src='Voice LFO 3' dst='A Osc 3 Feedback' depth=0.621592 normdepth=0.310796>,\n",
       "    <SurgeModRouting src='Voice LFO 3' dst='A Osc 3 Low Cut' depth=-25 normdepth=-0.192308>,\n",
       "    <SurgeModRouting src='Voice LFO 3' dst='A Osc 3 High Cut' depth=25 normdepth=0.192308>,\n",
       "    <SurgeModRouting src='Voice LFO 4' dst='A LFO 6 Deform' depth=0.500763 normdepth=0.250381>,\n",
       "    <SurgeModRouting src='Voice LFO 6' dst='A Osc 3 Pitch' depth=0.81584 normdepth=0.0582743>]},\n",
       "  {'scene': [], 'voice': []}]}"
      ]
     },
     "execution_count": 2,
     "metadata": {},
     "output_type": "execute_result"
    }
   ],
   "source": [
    "s = surgepy.createSurge(44100)\n",
    "p = os.path.join(s.getFactoryDataPath(), \"patches_3rdparty/Jacky Ligon/Soundscapes/Whale Communion.fxp\")\n",
    "s.loadPatch(p)\n",
    "mr = s.getAllModRoutings()\n",
    "mr"
   ]
  },
  {
   "cell_type": "code",
   "execution_count": 3,
   "metadata": {},
   "outputs": [
    {
     "data": {
      "text/plain": [
       "[<SurgeModSource Voice LFO 1>,\n",
       " <SurgeNamedParam 'A Osc 2 Low Cut'>,\n",
       " -25.0,\n",
       " -0.19230769574642181]"
      ]
     },
     "execution_count": 3,
     "metadata": {},
     "output_type": "execute_result"
    }
   ],
   "source": [
    "vr0 = mr[\"scene\"][0][\"voice\"][1]\n",
    "[vr0.getSource(),\n",
    " vr0.getDest(),\n",
    " vr0.getDepth(),\n",
    " vr0.getNormalizedDepth()]"
   ]
  },
  {
   "cell_type": "markdown",
   "metadata": {},
   "source": [
    "So what is that 'normalized depth' vs 'depth'? The normalize depth is scaled by the range of the\n",
    "parameter to be between -1 and 1, and is what the synth uses internally. The `getModulation` API\n",
    "on the surge synth uses that normalized value. So lets look - we should be able to recreate the\n",
    "depth from the normalized depth and the destination min and max easily. And here we see that we can."
   ]
  },
  {
   "cell_type": "code",
   "execution_count": 4,
   "metadata": {},
   "outputs": [
    {
     "data": {
      "text/plain": [
       "[-0.19230769574642181, -25.000000447034836, -25.0]"
      ]
     },
     "execution_count": 4,
     "metadata": {},
     "output_type": "execute_result"
    }
   ],
   "source": [
    "mx = s.getParamMax( vr0.getDest() );\n",
    "mn = s.getParamMin( vr0.getDest() );\n",
    "md = s.getModDepth01( vr0.getDest(), vr0.getSource() );\n",
    "\n",
    "[\n",
    "    md,\n",
    "    md * ( mx - mn ),\n",
    "    vr0.getDepth(),\n",
    "]"
   ]
  },
  {
   "cell_type": "markdown",
   "metadata": {},
   "source": [
    "## Creating modulations\n",
    "\n",
    "Creating modulations requires you to locate a source, a target, and bind them with a depth. Lets do this in a \n",
    "fresh surge and do the simplest thing of binding the mixer volume for an oscillator to an LFO, which shoudl make\n",
    "our waveform oscillate. To do this we use the new API where we find a mod source using the surge constants.\n",
    "We can see this single routing shows up in the allModRoutings API also.\n",
    "\n",
    "To show a bit of the expanded API, we also modify the type and rate of the LFO."
   ]
  },
  {
   "cell_type": "code",
   "execution_count": 5,
   "metadata": {},
   "outputs": [
    {
     "data": {
      "text/plain": [
       "[<matplotlib.lines.Line2D at 0x12320aa90>]"
      ]
     },
     "execution_count": 5,
     "metadata": {},
     "output_type": "execute_result"
    },
    {
     "data": {
      "image/png": "[encoded data removed]",
      "text/plain": [
       "<Figure size 864x576 with 1 Axes>"
      ]
     },
     "metadata": {
      "needs_background": "light"
     },
     "output_type": "display_data"
    }
   ],
   "source": [
    "s = surgepy.createSurge(44100)\n",
    "p = s.getPatch();\n",
    "\n",
    "level_o1 = p[\"scene\"][0][\"level_o1\"]\n",
    "s.setParamVal(level_o1, 0.5)\n",
    "\n",
    "lfoSource = s.getModSource( srco.ms_lfo1 )\n",
    "lfoParms = p[\"scene\"][0][\"lfo\"][0]\n",
    "s.setParamVal( lfoParms[\"rate\"], 2 ) # this is 2^val hz\n",
    "s.setParamVal( lfoParms[\"shape\"], srco.lt_square )\n",
    "\n",
    "s.setModDepth01( level_o1, lfoSource, 0.1 )\n",
    "\n",
    "onesec = int(s.getSampleRate()/s.getBlockSize())\n",
    "buf = s.createMultiBlock( 2 * onesec )\n",
    "s.playNote( 0, 60, 127, 0 )\n",
    "s.processMultiBlock( buf )\n",
    "\n",
    "plt.plot( buf[0] )"
   ]
  },
  {
   "cell_type": "markdown",
   "metadata": {},
   "source": [
    "Not all routings are valid, as described in the manual. For instance, you can't route a voice LFO\n",
    "to a scene level parameter, like an FX, or route to any integer parameter. We expose this via the\n",
    "synth with a collection of checks which we briefly demonstrate here."
   ]
  },
  {
   "cell_type": "code",
   "execution_count": 6,
   "metadata": {},
   "outputs": [
    {
     "data": {
      "text/plain": [
       "['Only Scene LFOs can modulate FX',\n",
       " <SurgeModSource Voice LFO 1>,\n",
       " <SurgeModSource Scene LFO 1>,\n",
       " False,\n",
       " True]"
      ]
     },
     "execution_count": 6,
     "metadata": {},
     "output_type": "execute_result"
    }
   ],
   "source": [
    "s = surgepy.createSurge(44100)\n",
    "p = s.getPatch()\n",
    "fx = p[\"fx\"][0]\n",
    "fxp0 = fx[\"p\"][0]\n",
    "\n",
    "vlfo = s.getModSource( srco.ms_lfo1 )\n",
    "slfo = s.getModSource( srco.ms_slfo1 )\n",
    "\n",
    "s.setParamVal( fx[\"type\"], srco.fxt_delay )\n",
    "# Changing FX Type requires at least one run of the audio thread\n",
    "s.process()\n",
    "\n",
    "[\n",
    "    \"Only Scene LFOs can modulate FX\",\n",
    "    vlfo,\n",
    "    slfo,\n",
    "    s.isValidModulation( fxp0, vlfo ),\n",
    "    s.isValidModulation( fxp0, slfo )\n",
    "]\n",
    "\n"
   ]
  },
  {
   "cell_type": "code",
   "execution_count": null,
   "metadata": {},
   "outputs": [],
   "source": []
  }
 ],
 "metadata": {
  "kernelspec": {
   "display_name": "Python 3",
   "language": "python",
   "name": "python3"
  },
  "language_info": {
   "codemirror_mode": {
    "name": "ipython",
    "version": 3
   },
   "file_extension": ".py",
   "mimetype": "text/x-python",
   "name": "python",
   "nbconvert_exporter": "python",
   "pygments_lexer": "ipython3",
   "version": "3.9.1"
  }
 },
 "nbformat": 4,
 "nbformat_minor": 4
}
